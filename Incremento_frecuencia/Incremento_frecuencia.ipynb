{
 "cells": [
  {
   "cell_type": "markdown",
   "metadata": {},
   "source": [
    "# Incremento de frecuencia sin datos de pozos 3D\n",
    "\n",
    "* [Douglas Alberto Gómez Reyes](agomezr@imp.mx)- Dirección de Servicios en Exploración y Producción\n",
    "* [Juan Delfino Lara Corona](jdlara@imp.mx)- Dirección de Servicios en Exploración y Producción\n",
    "* [Liliana Vargas Meleza](lvargasm@imp.mx)- Dirección de Servicios en Exploración y Producción\n",
    "* [Sergio Chávez Pérez](sergio.chavezp@gmail.com)- Dirección de Tecnología de Producto\n",
    "\n",
    "    **Instituto Mexicano del Petróleo**"
   ]
  },
  {
   "cell_type": "markdown",
   "metadata": {},
   "source": [
    "### Introducción\n",
    "\n",
    "La resolución sísmica vertical es función del contenido de frecuencia, por lo que frecuentemente\n",
    "surgen nuevas técnicas para incrementar el ancho de banda de datos sísmicos. Esto es factible\n",
    "mediante la manipulación espectral de los datos, que involucra conceptos fundamentales de\n",
    "procesamiento de señales, indispensables para realizar actividades cotidianas en las áreas de\n",
    "exploración y producción petroleras. El contenido de energía de los datos sísmicos está representado\n",
    "en el espectro de amplitud y es de banda limitada en frecuencia, por lo que es deseable incrementar\n",
    "el ancho de banda para fines de incremento de resolución sísmica y de estabilización de operaciones\n",
    "de filtrado y de procesamiento de datos. En este trabajo ilustramos la relevancia y sencillez de la\n",
    "manipulación espectral, usando herramientas de código abierto, revisitando técnicas de incremento\n",
    "de frecuencia en datos sísmicos mediante cuadernos de trabajo y reproducibilidad computacional,\n",
    "para el incremento de frecuencia.\n",
    "\n",
    "Cotidianamente, en el ambiente académico e industrial, los procesadores e intérpretes utilizan\n",
    "diferentes métodos de manipulación espectral de datos sísmicos (e.g., [Silvia, 1987](https://www.qsl.net/k/kb1uif//downloads/Docs/ELLIOTT,%20D.%20F.%20(1987)%20Handbook%20of%20Digital%20Signal%20Processing%20-%20Engineering%20Applications.pdf); [Claerbout, 1992](http://sep.stanford.edu/sep/prof/pvi.pdf))\n",
    "entre los que destacan el blanqueamiento, azulamiento (incremento de frecuencias altas), balanceo,\n",
    "factor de amortiguamiento en inversión lineal y deconvolución (o remoción de efectos de filtrado). En\n",
    "el balanceo espectral de datos sísmicos (e.g., [Chopra y Marfurt, 2016](http://www.chopraseismic.com/wp-content/uploads/2016/02/3502_TSA_IC_Chopra-resized.pdf)) interviene un factor de\n",
    "amortiguamiento que equivale a reforzar la diagonal principal de la matriz utilizada en el proceso de\n",
    "inversión lineal y en el blanqueamiento del espectro. Al encontrar dicho factor (mediante las\n",
    "ecuaciones normales) podemos establecer su equivalencia con el balanceo espectral.\n",
    "\n",
    "Nuestro interés actual yace en la mejoría de flujos de trabajo y prácticas de interpretación\n",
    "sísmica, con herramientas computacionales reproducibles y no comerciales, y hemos enfocado\n",
    "nuestra atención en el surgimiento y uso de cuadernos de trabajo (e.g., [Osipov, 2016](https://www.datanami.com/2016/05/04/rise-data-science-notebooks/?eid=328382723&bid=1398456); [Kluyver et al.,\n",
    "2016](http://microblogging.infodocs.eu/wp-content/uploads/2016/06/9781614996491.pdf)), que representan un formato de publicación para ilustrar flujos de trabajo reproducibles, realizados con paquetería gratuita y de código abierto, y con recursos computacionales que están al alcance de cualquier estudiante, académico o profesional.\n",
    "\n",
    "[Kluyver et al. (2016)](http://microblogging.infodocs.eu/wp-content/uploads/2016/06/9781614996491.pdf) destacan que los cuadernos de trabajo (nuestra traducción de notebooks),\n",
    "documentos que integran prosa, código y resultados, ofrecen una manera de publicar un método\n",
    "computacional que puede ser fácilmente leído y replicado. Utilizamos esa forma de trabajo para\n",
    "presentar y replicar nuestros resultados"
   ]
  },
  {
   "cell_type": "markdown",
   "metadata": {},
   "source": [
    "### Instrucciones\n",
    "\n",
    "Las técnicas descritas como I y II, las ejecutamos con la paquetería libre de código abierto [Madagascar](http://www.ahay.org/wiki/Main_Page). La técnica III, la realizamos con [AASPI](http://mcee.ou.edu/aaspi/). \n",
    "\n",
    "Madagascar es una paquetería que integra elementos de sus precursores [SEPLib](http://sepwww.stanford.edu/) y [Seismic Unix](http://www.cwp.mines.edu/cwpcodes/) empleando esquemas de cómputo moderno. La paquetería consta de tres niveles: \n",
    "> 1) Programas de procesamiento: Más de 750 programas desarrollados principalmente en lenguaje C (también en C++, Fortran, Python, etc.) que actúan como filtros sobre los datos y pueden encadenarse mediante “pipes” de Unix o bien cuadernos de trabajo de Jupyter (http://jupyter.org/); \n",
    "\n",
    "> 2) Flujos de procesamiento SConstruct: Escritos en lenguaje de programación Python y ejecutados mediante el programa SCons; \n",
    "\n",
    ">3) Documentos reproducibles: conjunto de libros y artículos técnicos. \n",
    "\n",
    "[AASPI](http://mcee.ou.edu/aaspi/) es la paquetería de código abierto desarrollada por el consorcio académico de investigación Attribute-Assisted Seismic Processing and Interpretacion de la Universidad de Oklahoma, EEUU.\n"
   ]
  },
  {
   "cell_type": "code",
   "execution_count": null,
   "metadata": {},
   "outputs": [],
   "source": [
    "from m8r import view \n",
    "import math"
   ]
  },
  {
   "cell_type": "markdown",
   "metadata": {},
   "source": [
    "### Lectura de datos sísmicos"
   ]
  },
  {
   "cell_type": "markdown",
   "metadata": {},
   "source": [
    "Probamos los flujos de trabajo de las técnicas de incremento de frecuencia sin datos de pozos, en tres dimensiones, con datos sísmicos marinos, libres, propiedad del Departamento de Energía de Nueva Escocia y distribuido por la compañía [`dGB Earth Sciences`](https://dgbes.com/) bajo una licencia [CC BY-SA]() (Fig.1), y disponibles [aquí](https://opendtect.org/osr/pmwiki.php/Main/PENOBSCOT3DSABLEISLAND)."
   ]
  },
  {
   "cell_type": "code",
   "execution_count": null,
   "metadata": {},
   "outputs": [],
   "source": [
    "%%file carga.scons \n",
    "\n",
    "sis_ori = 'penobscot_ori500_3000.sgy'\n",
    "\n",
    "Flow('seudo2d', sis_ori, 'segyread tfile=tfile.rsf bfile=bfile hfile=hfile verb=y endian=y')\n",
    "Flow('cubo', 'seudo2d', '''intbin inv=n head=tfile.rsf xk=xline yk=iline | put label1=Tiempo \n",
    "                                    label3=inline label2=xline | window  min1=0.5 max1=3''')"
   ]
  },
  {
   "cell_type": "code",
   "execution_count": null,
   "metadata": {},
   "outputs": [],
   "source": [
    "%%file display_input.scons\n",
    "\n",
    "Plot('cubo-ori', 'cubo', '''byte gainpanel=all | grey3 frame1=550 frame2=100 frame3=100 \n",
    "       title=\"Datos originales\" flat=n point1=0.8 point2=0.8 point3=0 color=i''' )\n",
    "Result('original', 'cubo-ori', 'SideBySideAniso' )"
   ]
  },
  {
   "cell_type": "code",
   "execution_count": null,
   "metadata": {},
   "outputs": [],
   "source": [
    "view('original')"
   ]
  },
  {
   "cell_type": "markdown",
   "metadata": {},
   "source": [
    "<font size=2>**Figura 1.** Datos sísmicos originales, recortados en tiempo de 0.5 a 3.0 segundos."
   ]
  },
  {
   "cell_type": "markdown",
   "metadata": {},
   "source": [
    "## Derivadas orden superior\n",
    "\n",
    "### Técnica I: Negativo de la segunda derivada y cuarta derivada\n",
    "\n",
    "El negativo de la segunda derivada permite mejorar la definición de los datos sísmicos recorriendo el contenido de frecuencia hacia las frecuencias altas. En el dominio de las frecuencias, la derivada implica un cambio en la amplitud y frecuencia, proporcional a la amplitud y frecuencia originales, lo que produce un efecto de filtro pasa altas, recorriendo la frecuencia predominante hacia las frecuencias altas. La cuarta derivada recorre aún más las frecuencias hacia las altas frecuencias.\n",
    "\n",
    "Derivar una señal $f(t)$ equivale, en el dominio de la frecuencia, a multiplicar la transformada de Fourier de la señal $F(ω)$ por el producto $iω$, donde $i$ es la unidad imaginaria y $ω$ es la frecuencia angular. Derivar dos veces equivale a multiplicar $F(ω)$ por $(iω)²$ , es decir, por $−ω ²$ . Este cambio de signo implica un cambio en la polaridad de la traza, por lo que es necesario multiplicar por −1 para recuperar la polaridad original."
   ]
  },
  {
   "cell_type": "markdown",
   "metadata": {},
   "source": [
    "La Fig. 2 muestra el flujo de trabajo que implementamos en Madgascar."
   ]
  },
  {
   "cell_type": "markdown",
   "metadata": {},
   "source": [
    "<img src=\"derv1_wf.png\" alt=\"drawing\" style=\"float:left;width:480px;height:240px;border:left;\"/>"
   ]
  },
  {
   "cell_type": "markdown",
   "metadata": {},
   "source": [
    "<font size=2>**Figura 2.** Flujo de trabajo de derivadas de orden superior."
   ]
  },
  {
   "cell_type": "code",
   "execution_count": null,
   "metadata": {},
   "outputs": [],
   "source": [
    "%%file der.scons \n",
    "\n",
    "Flow('der2', 'cubo', 'deriv | deriv | scale dscale=-1 ')\n",
    "Flow('der4', 'cubo', 'deriv | deriv | deriv | deriv ')"
   ]
  },
  {
   "cell_type": "code",
   "execution_count": null,
   "metadata": {},
   "outputs": [],
   "source": [
    "%%file display_a.scons \n",
    "\n",
    "Plot('cubo-deriv2', 'der2', '''byte gainpanel=all | grey3 frame1=550 frame2=100 frame3=100 \n",
    "           title=\"2da derivada\" flat=n point1=0.8 point2=0.8 point3=0 color=i ''' )\n",
    "Plot('cubo-deriv4', 'der4', ''' byte gainpanel=all | grey3 frame1=550 frame2=100 frame3=100 \n",
    "           title=\"4ta derivada\" flat=n point1=0.8 point2=0.8 point3=0 color=i ''' )\n",
    "           \n",
    "Result('derv', 'cubo-ori cubo-deriv2 cubo-deriv4', 'SideBySideAniso')"
   ]
  },
  {
   "cell_type": "markdown",
   "metadata": {},
   "source": [
    "### Resultados 3D\n",
    "\n",
    "La Fig. 3 muestra resultados de las pruebas en los datos sísmicos 3D."
   ]
  },
  {
   "cell_type": "code",
   "execution_count": null,
   "metadata": {},
   "outputs": [],
   "source": [
    "view('derv')"
   ]
  },
  {
   "cell_type": "markdown",
   "metadata": {},
   "source": [
    "<font size=2>**Figura 3.** **Izquierda**. Datos sísmicos originales. **Centro** Negativo de la segunda derivada. **Derecha**. Cuarta derivada."
   ]
  },
  {
   "cell_type": "markdown",
   "metadata": {},
   "source": [
    "## Mutiplicador de fase\n",
    "\n",
    "### Técnica II: Multiplicador de fase\n",
    "\n",
    "Stark (2009) sugirió una estrategia para mejorar resolución vertical al incrementar el número de valles y cimas de trazas sísmicas incorporando un multiplicador N que acelere la fase instantánea. "
   ]
  },
  {
   "cell_type": "markdown",
   "metadata": {},
   "source": [
    "La técnica del multiplicador de fase está basada en la separación de la información de amplitud y de fase en una traza sísmica, dada por la ecuación,\n",
    "\n",
    "> $f(t)=A(t)cos(\\theta(t))$ \n",
    "\n",
    "donde $x(t)$ es una traza sísmica, $A(t)$ es la amplitud instantánea y $\\theta(t)$ es la fase instantánea. \n",
    "\n",
    "La técnica consiste únicamente en agregar un multiplicador $N$ en la ecuación anterior\n",
    "\n",
    "> $f(t)=A(t)cos(N\\theta(t))$ \n",
    "\n",
    "El valor del multiplicador toma valores enteros (1 a 5, usualmente) y su efecto consiste en acelerar la fase, incrementando así la frecuencia. Otros resultados útiles se obtienen al sumar los multiplicadores de fase nones (N=1+N=3 y N=1+N=3+N=5).\n",
    "\n",
    "La Fig. 4 muestra el flujo que implementamos."
   ]
  },
  {
   "cell_type": "markdown",
   "metadata": {},
   "source": [
    "<img src=\"mult1_wf.png\" alt=\"drawing\" style=\"float:left;width:360px;height:250px;border:left;\"/>"
   ]
  },
  {
   "cell_type": "markdown",
   "metadata": {},
   "source": [
    "<font size=2>**Figura 4.** Flujo de trabajo del multiplicador de fase."
   ]
  },
  {
   "cell_type": "code",
   "execution_count": null,
   "metadata": {},
   "outputs": [],
   "source": [
    "%%file mult.scons \n",
    "\n",
    "Flow('interp', 'cubo', 'sinc n1=1252 d1=0.002 o1=0.5')\n",
    "Flow('cuad', 'interp', 'envelope hilb=y')\n",
    "Flow('amp', None, 'math a=interp.rsf b=cuad.rsf output=\"sqrt(a^2 + b^2)\"')\n",
    "Flow('phase', None, 'math a=interp.rsf b=cuad.rsf output=\"atan(b/a)\"')\n",
    "Flow('mult2-inter', None, 'math a=amp.rsf b=phase.rsf output=\"a*cos(2*b)\"')\n",
    "Flow('mult3-inter', None, 'math a=amp.rsf b=phase.rsf output=\"a*cos(3*b)\"')\n",
    "Flow('sumn1n3-inter', None, 'math a=interp.rsf b=mult3-inter.rsf output=\"a+b\"')\n",
    "Flow('mult2', 'mult2-inter', 'sinc n1=626 d1=0.004 o1=0.5')\n",
    "Flow('mult3', 'mult3-inter', 'sinc n1=626 d1=0.004 o1=0.5')\n",
    "Flow('sumn1n3', 'sumn1n3-inter', 'sinc n1=626 d1=0.004 o1=0.5')"
   ]
  },
  {
   "cell_type": "code",
   "execution_count": null,
   "metadata": {},
   "outputs": [],
   "source": [
    "%%file display_b.scons \n",
    "\n",
    "Plot('cubo-mult2', 'mult2', '''byte gainpanel=all | grey3 frame1=550 frame2=100 frame3=100 \n",
    "               title=\"Multiplicador de fase N2\" flat=n point1=0.8 point2=0.8 point3=0 color=i ''' )\n",
    "\n",
    "Plot('cubo-mult3', 'mult3', '''byte gainpanel=all | grey3 frame1=550 frame2=100 frame3=100 \n",
    "               title=\"e) Multiplicador de fase N3\" flat=n point1=0.8 point2=0.8 point3=0 color=i ''' )\n",
    "\n",
    "Plot('cubo-sumn1n3', 'sumn1n3', '''byte gainpanel=all | grey3 frame1=550 frame2=100 frame3=100 \n",
    "               title=\"Multiplicador de fase N1+N3\" flat=n point1=0.8 point2=0.8 point3=0 color=i ''' )\n",
    "\n",
    "Result('mult', 'cubo-mult2 cubo-mult3 cubo-sumn1n3', 'SideBySideAniso' )\n",
    "\n",
    "Result('derv_mult', 'cubo-ori cubo-deriv2 cubo-deriv4 cubo-mult2 cubo-mult3 cubo-sumn1n3', 'TwoRows' )"
   ]
  },
  {
   "cell_type": "markdown",
   "metadata": {},
   "source": [
    "### Resultados 3D\n",
    "\n",
    "La Fig. 5 muestra resultados de las pruebas en los datos sísmicos 3D."
   ]
  },
  {
   "cell_type": "code",
   "execution_count": null,
   "metadata": {},
   "outputs": [],
   "source": [
    "view('mult')"
   ]
  },
  {
   "cell_type": "markdown",
   "metadata": {},
   "source": [
    "<font size=2>**Figura 5.**  **Izquierda**. Datos sísmicos originales. **Centro**. Multiplicador N3. **Derecha**. Multiplicador N1 + N3."
   ]
  },
  {
   "cell_type": "markdown",
   "metadata": {},
   "source": [
    "### Resultados en sección \n",
    "\n",
    "Las Fig. 6 y Fig. 7 muestran resultados de las pruebas de las derivadas de orden superior y multiplicador de fase en la línea longitudinal 1177."
   ]
  },
  {
   "cell_type": "code",
   "execution_count": null,
   "metadata": {},
   "outputs": [],
   "source": [
    "%%file display_c.scons \n",
    "\n",
    "Flow('il1210-ori', 'cubo', \n",
    "                '''window min1=1.6 max1=2.6 max2=1300 min3=1177 n3=1''')\n",
    "Flow('il1210-der2', 'der2', \n",
    "                '''window min1=1.6 max1=2.6 max2=1300 min3=1177 n3=1''')\n",
    "Flow('il1210-der4', 'der4', \n",
    "                '''window min1=1.6 max1=2.6 max2=1300 min3=1177 n3=1''')\n",
    "Flow('il1210_mult2', 'mult2', \n",
    "                '''window min1=1.6 max1=2.6 max2=1300 min3=1177 n3=1''')\n",
    "Flow('il1210_mult3', 'mult3', \n",
    "                '''window min1=1.6 max1=2.6 max2=1300 min3=1177 n3=1''')\n",
    "Flow('il1210_sumn1n3', 'sumn1n3', \n",
    "                '''window min1=1.6 max1=2.6 max2=1300 min3=1177 n3=1''')\n",
    "##########\n",
    "Plot('seis', 'il1210-ori',\n",
    "            'gaussmooth rect=3 | grey gainpanel=a  title=\"Datos Originales\" color=g ')\n",
    "Plot('der2', 'il1210-der2',\n",
    "            'gaussmooth rect=3 | grey gainpanel=a  title=\"2da derivada\" color=g ')\n",
    "Plot('der4', 'il1210-der4',\n",
    "            'gaussmooth rect=3 | grey gainpanel=a  title=\"4da derivada\" color=g ')\n",
    "##########                            \n",
    "Plot('mult2', 'il1210_mult2',\n",
    "            'gaussmooth rect=3 | grey gainpanel=a  title=\"Multiplicador N2\"  color=g')\n",
    "Plot('mult3', 'il1210_mult3',\n",
    "            'gaussmooth rect=3 | grey gainpanel=a  title=\"Multiplicador N3\"  color=g')\n",
    "Plot('sumn1n3', 'il1210_sumn1n3',\n",
    "            'gaussmooth rect=3 | grey gainpanel=a  title=\"Multiplicador N1+N3\" color=g')\n",
    "##########\n",
    "Result('seis2-der', 'seis der2 der4', 'SideBySideAniso')\n",
    "Result('seis2-mult', 'seis mult2 sumn1n3', 'SideBySideAniso')"
   ]
  },
  {
   "cell_type": "code",
   "execution_count": null,
   "metadata": {},
   "outputs": [],
   "source": [
    "view('seis2-der')"
   ]
  },
  {
   "cell_type": "markdown",
   "metadata": {},
   "source": [
    "<font size=2>**Figura 6.**  **Izquierda**. Datos sísmicos originales. **Centro**. Negativo de la segunda derivada. **Derecha**. Cuarta derivada."
   ]
  },
  {
   "cell_type": "code",
   "execution_count": null,
   "metadata": {},
   "outputs": [],
   "source": [
    "view('seis2-mult')"
   ]
  },
  {
   "cell_type": "markdown",
   "metadata": {},
   "source": [
    "<font size=2>**Figura 7.**  **Izquierda**. Datos sísmicos originales. **Centro**. Multiplicador N2. **Derecha**. Multiplicador N1 + N3."
   ]
  },
  {
   "cell_type": "markdown",
   "metadata": {},
   "source": [
    "### Efecto del incremento de frecuencia\n",
    "\n",
    "La Fig. 8 compara el efecto del incremento de frecuencia en los espectros de amplitud de cada una de las pruebas."
   ]
  },
  {
   "cell_type": "markdown",
   "metadata": {},
   "source": [
    "<img src=\"espec_pot_dermult1.png\" alt=\"drawing\" style=\"float:left;width:680px;height:250px;border:left;\"/>"
   ]
  },
  {
   "cell_type": "markdown",
   "metadata": {},
   "source": [
    "<font size=2>**Figura 8.**  **Izquierda**. Efecto en el espectro de amplitud al incrementar la frecuencia derivando.  **Derecha**. Efecto en el espectro de amplitud al incrementar la frecuencia multiplicando la fase."
   ]
  },
  {
   "cell_type": "markdown",
   "metadata": {},
   "source": [
    "La Fig. 9 muestra resultados de técnica I en la vecindad del pozo L-30. El recuadro de color amarillo muestra rasgos revelados por el operador derivada (2da y 4ta) y validados con el sismograma sintético."
   ]
  },
  {
   "cell_type": "markdown",
   "metadata": {},
   "source": [
    "<img src=\"derv2_wf.png\" alt=\"drawing\" style=\"float:left;width:920px;height:710px;border:left;\"/>"
   ]
  },
  {
   "cell_type": "markdown",
   "metadata": {},
   "source": [
    "<font size=2>**Figura 9.**  **Izquierda**. Datos sísmicos originales. **Centro**. Negativo de la segunda derivada. **Derecha**. Cuarta derivada. Los recuadros de color amarillo muestran eventos sísmicos resueltos que no eran distinguibles en los datos originales (recuadro de color blanco)."
   ]
  },
  {
   "cell_type": "markdown",
   "metadata": {},
   "source": [
    "La Fig. 10 muestra resultados de la técnica II en la vecindad del pozo L-30. El recuadro de color amarillo muestra rasgos revelados por los multiplicadores de fase (N2 y N1 + N3) y validados con el sismograma sintético."
   ]
  },
  {
   "cell_type": "markdown",
   "metadata": {},
   "source": [
    "<img src=\"mult2_wf.png\" alt=\"drawing\" style=\"float:left;width:920px;height:710px;border:left;\"/>"
   ]
  },
  {
   "cell_type": "markdown",
   "metadata": {},
   "source": [
    "<font size=2>**Figura 10.**  **Izquierda**. Datos sísmicos originales. **Centro**. Multiplicador de fase N2. **Derecha**. Suma de multiplicadores N1 + N3. Los recuadros de color amarillo muestran eventos sísmicos resueltos que no eran distinguibles en los datos originales (recuadro de color blanco). Esta técnica, con respecto a la técnica I, ofrece mejorías inferiores de resolución vertical."
   ]
  },
  {
   "cell_type": "markdown",
   "metadata": {},
   "source": [
    "### Técnica III: Filtrado orientado a estructura (FOE) + balanceo espectral\n",
    "\n",
    "Al aplicar filtrado orientado a estructura (FOE) en distintas bandas de frecuencia, junto con balanceo espectral, es posible aumentar la relación señal a ruido fuera de la banda central original y, al mismo tiempo, mejorar el contenido de frecuencia de los datos (Helmore, 2009). La Fig. 11 muestra el flujo de trabajo implementado."
   ]
  },
  {
   "cell_type": "markdown",
   "metadata": {},
   "source": [
    "<img src=\"foe_bal1.png\" alt=\"drawing\" style=\"float:left;width:380px;height:290px;border:left;\"/>"
   ]
  },
  {
   "cell_type": "markdown",
   "metadata": {},
   "source": [
    "**Figura 11.** Flujo de trabajo de FOE con balanceo espectral."
   ]
  },
  {
   "cell_type": "markdown",
   "metadata": {},
   "source": [
    "La Fig. 12 muestra los resultados de la técnica III en la vecindad del pozo L-30. El recuadro de color amarillo muestra rasgos revelados por FOE + balanceo espectral y validados con sismogramas sintéticos de los pozos en cuestión."
   ]
  },
  {
   "cell_type": "markdown",
   "metadata": {},
   "source": [
    "<img src=\"foe_bal2.png\" alt=\"drawing\" style=\"float:left;width:640px;height:640px;border:left;\"/>"
   ]
  },
  {
   "cell_type": "markdown",
   "metadata": {},
   "source": [
    "La Fig. 15 muestra espectros de frecuencia obtenidos con cada una de las técnicas."
   ]
  },
  {
   "cell_type": "markdown",
   "metadata": {},
   "source": [
    "<img src=\"espec_pot_dermult2.png\" alt=\"drawing\" style=\"float:left;width:1160px;height:240px;border:left;\"/>"
   ]
  },
  {
   "cell_type": "markdown",
   "metadata": {},
   "source": [
    "**Figura 15.** Espectros de amplitud de datos originales versus las técnicas de incremento de frecuencia implementadas."
   ]
  },
  {
   "cell_type": "code",
   "execution_count": null,
   "metadata": {},
   "outputs": [],
   "source": [
    "#!scons -cQ"
   ]
  }
 ],
 "metadata": {
  "kernelspec": {
   "display_name": "Python 3",
   "language": "python",
   "name": "python3"
  },
  "language_info": {
   "codemirror_mode": {
    "name": "ipython",
    "version": 2
   },
   "file_extension": ".py",
   "mimetype": "text/x-python",
   "name": "python",
   "nbconvert_exporter": "python",
   "pygments_lexer": "ipython2",
   "version": "2.7.15"
  }
 },
 "nbformat": 4,
 "nbformat_minor": 2
}
