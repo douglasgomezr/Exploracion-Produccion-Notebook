{
 "cells": [
  {
   "cell_type": "markdown",
   "metadata": {},
   "source": [
    "## Estimación de espectro de amplitud y fase de datos sísmicos 2D \n",
    "\n",
    "**Diciembre 2018**\n",
    "\n",
    "Existe un problema intrínseco en la representación del contenido de energía y fase en el dominio de Fourier de datos sísmicos 3D. Lo que obtenemos, es una respuesta promedio del volumen sísmico (Fig. 1); mientras que de una traza sísmica (serie de tiempo) podemos numéricamente representar con gran precisión su contenido de energía y fase, no así para dos o más trazas sísmicas, de las que de manera legible solo podemos intepretar su respuesta promedio. \n",
    "\n",
    "Por curiosidad numérica calculo y represento los espectros de amplitud y fase de datos sísmicos bidimensionales. He elaborado este cuaderno de trabajo con la intención de ilustrar dos formar de estimar el espectro de amplitud de una sección sísmica con `Python`. <br> Los datos sísmicos son propiedad del Departamento de Energía de Nueva Escocia, distribuido por la compañia [`dGB Earth Sciences`](https://dgbes.com/), bajo una licencia CC BY-SA. Para este ejercicio, seleccioné la línea longitudinal no. 1153. "
   ]
  },
  {
   "cell_type": "markdown",
   "metadata": {},
   "source": [
    "<img src=\"Ejemplo-EspectroAmplitud.png\" alt=\"drawing\" style=\"float:center;width:600px;height:340px;border:left;\"/>"
   ]
  },
  {
   "cell_type": "markdown",
   "metadata": {},
   "source": [
    "<font size=2 color=black>**Figura 1.** Ejemplo típico de la representación del espectro de amplitud de un volumen de datos sísmicos. En la parte derecha inferior, se muestra el espectro de amplitud en decibeles. </font>"
   ]
  },
  {
   "cell_type": "code",
   "execution_count": null,
   "metadata": {},
   "outputs": [],
   "source": [
    "import numpy as np\n",
    "from scipy import signal\n",
    "import matplotlib.pyplot as plt\n",
    "from obspy.io.segy.segy import _read_segy\n",
    "\n",
    "%matplotlib inline\n",
    "plt.style.use('seaborn-paper')"
   ]
  },
  {
   "cell_type": "markdown",
   "metadata": {},
   "source": [
    "**Sugerencia:** Sobre el estilo de gráficas, ver [aquí]([ver](https://tonysyu.github.io/raw_content/matplotlib-style-gallery/gallery.html))."
   ]
  },
  {
   "cell_type": "markdown",
   "metadata": {},
   "source": [
    "### Importar datos sísmicos en formato [SEGY](https://en.wikipedia.org/wiki/SEG-Y)"
   ]
  },
  {
   "cell_type": "code",
   "execution_count": null,
   "metadata": {},
   "outputs": [],
   "source": [
    "xlinea_sismica = _read_segy('xline_1153.sgy', headonly=True)\n",
    "seis = np.stack(t.data for t in xlinea_sismica.traces)"
   ]
  },
  {
   "cell_type": "markdown",
   "metadata": {},
   "source": [
    "#### Parámetros de los datos sísmicos"
   ]
  },
  {
   "cell_type": "code",
   "execution_count": null,
   "metadata": {},
   "outputs": [],
   "source": [
    "dt = 0.004\n",
    "dim = seis.T.shape\n",
    "dimz = seis.T.shape[0]\n",
    "print('Tamaño de matriz =', dim)\n",
    "print('Intervalo de muestreo =', dt, 'ms')\n",
    "print('Longitud de grabación = ', dt * dimz, 's' )"
   ]
  },
  {
   "cell_type": "markdown",
   "metadata": {},
   "source": [
    "#### Gráfica de los datos sísmicos\n",
    "\n",
    "En la Fig. 2 se muestra la línea transversal de estudio."
   ]
  },
  {
   "cell_type": "code",
   "execution_count": null,
   "metadata": {},
   "outputs": [],
   "source": [
    "plt.figure(figsize=[22,9])\n",
    "\n",
    "percen = np.percentile(seis, 99)\n",
    "\n",
    "secc = plt.imshow(seis.T[:,:],vmin=-percen, vmax=percen, cmap=\"bwr\",  aspect='auto',\n",
    "                interpolation='gaussian')\n",
    "cbar= plt.colorbar(secc, aspect=15, shrink=0.8)\n",
    "cbar.set_label('Amplitud')\n",
    "_ = plt.yticks(np.linspace(0,751,7), [0.0,0.5,1.0,1.5,2.0,2.5, 3.0])\n",
    "_ = plt.xlabel('No. Traza', fontsize = 12, weight = 'semibold')\n",
    "_ = plt.ylabel('Tiempo [s]', fontsize = 12, weight = 'semibold')\n",
    "_ = plt.title('Línea transversal', fontsize=16, weight = 'semibold')\n",
    "_ = plt.grid(True,alpha=0.6,linestyle=':')"
   ]
  },
  {
   "cell_type": "markdown",
   "metadata": {},
   "source": [
    "<font size=2 color=black>**Figura 2.** Sección sísmica. </font>"
   ]
  },
  {
   "cell_type": "markdown",
   "metadata": {},
   "source": [
    "### Naturaleza del problema: Espectros de Fourier de datos bidimensionales\n",
    "\n",
    "\n",
    "Las Figuras 3 y 4 representan el espectro de amplitud en escala lineal y decibel de la sección sísmica de la Fig. 2, respectivamente; la Fig. 5 representa el espectro de fase. La legibilidad e interpretación de las gráficas anteriores no es sencilla debido a que se visualizan tres variables en una imagen 2D. La manera estándar de presentar los espectro de amplitud y fase, es a través de graficas de frecuencia contra amplitud (Fig. 1).\n",
    "\n",
    "Para lograr un interpretación frecuencia versus amplitud, planteo dos formar de estimar los espectros de Fourier de forma lineal, $A = X(f) $:  \n",
    "\n",
    ">> **1. Primera técnica:** calcular los coeficientes de Fourier y ángulos complejos de cada una de las trazas sísmicas y después promediarlos entre el número de trazas de la sección sísmica.\n",
    "\n",
    ">> **2. Segunda técnica:** estimar una traza sísmica equivalente a la sección sísmica y calcular los coeficientes de Fourier y ángulos complejos.\n",
    "\n",
    "La primera técnica, físicamente es una mejor aproximación a la respuesta espectral de los datos sísmicos bidimensionales."
   ]
  },
  {
   "cell_type": "markdown",
   "metadata": {},
   "source": [
    "#### Cálculo de la transformada de Fourier en dos dimensiones"
   ]
  },
  {
   "cell_type": "markdown",
   "metadata": {},
   "source": [
    "* ####  Amplitud (energía)"
   ]
  },
  {
   "cell_type": "code",
   "execution_count": null,
   "metadata": {},
   "outputs": [],
   "source": [
    "amp = np.abs(np.fft.rfft2(seis))# Magnitud lineal\n",
    "amp_db = 20*np.log10(np.abs(np.fft.rfft2(seis))) #Magnitud en decibeles "
   ]
  },
  {
   "cell_type": "markdown",
   "metadata": {},
   "source": [
    "La función `np.fft.rfftfreq` proporciona el intervalo de frecuencia en Hertz de los datos sísmicos."
   ]
  },
  {
   "cell_type": "code",
   "execution_count": null,
   "metadata": {},
   "outputs": [],
   "source": [
    "frec = np.fft.rfftfreq(len(seis.T), d = dt)"
   ]
  },
  {
   "cell_type": "code",
   "execution_count": null,
   "metadata": {},
   "outputs": [],
   "source": [
    "print('Tamaño de la matriz Transformada de Fourier = ', amp.T.shape)"
   ]
  },
  {
   "cell_type": "code",
   "execution_count": null,
   "metadata": {},
   "outputs": [],
   "source": [
    "frecmax_idx = amp.T.shape[0]\n",
    "frec_nyq = 1/(2*0.004)"
   ]
  },
  {
   "cell_type": "code",
   "execution_count": null,
   "metadata": {},
   "outputs": [],
   "source": [
    "print('La frecuencia índice máxima = ', frecmax_idx)\n",
    "print('La frecuencia de Nyquist = ', frec_nyq, 'Hz')"
   ]
  },
  {
   "cell_type": "markdown",
   "metadata": {},
   "source": [
    "* #### Fase (ángulo versus frecuencia)"
   ]
  },
  {
   "cell_type": "code",
   "execution_count": null,
   "metadata": {},
   "outputs": [],
   "source": [
    "fase = np.angle((np.fft.rfft2(seis)), deg=True)"
   ]
  },
  {
   "cell_type": "code",
   "execution_count": null,
   "metadata": {},
   "outputs": [],
   "source": [
    "plt.figure(figsize=[14,6])\n",
    "\n",
    "pot_db = plt.imshow(amp_db.T, aspect='auto', cmap = 'Spectral_r', vmin=65, vmax=130)\n",
    "cbar= plt.colorbar(pot_db, aspect=20, shrink=1)\n",
    "cbar.set_label('Amplitud [dB]')\n",
    "_ = plt.yticks(np.linspace(0,376,12), [0,10,20,30,40,50,60,70,80,90,100,120])\n",
    "_ = plt.xlabel('No. Traza', fontsize = 10, weight = 'semibold')\n",
    "_ = plt.ylabel('Frecuencia [Hz]', fontsize = 10, weight = 'semibold')\n",
    "_ = plt.title('Espectro de amplitud', fontsize=12, weight = 'semibold')\n",
    "_ = plt.grid(True,alpha=0.6,linestyle=':')"
   ]
  },
  {
   "cell_type": "markdown",
   "metadata": {},
   "source": [
    "<font size=2 color=black>**Figura 3.** Espectro de amplitud en escala de decibeles. </font>"
   ]
  },
  {
   "cell_type": "code",
   "execution_count": null,
   "metadata": {},
   "outputs": [],
   "source": [
    "plt.figure(figsize=[14,6])\n",
    "\n",
    "pot_norm = plt.imshow(amp.T, aspect='auto', cmap = 'Spectral_r', vmin=1000, vmax=850000)\n",
    "cbar= plt.colorbar(pot_norm, aspect=20, shrink=1)\n",
    "cbar.set_label('Amplitud')\n",
    "_ = plt.yticks(np.linspace(0,376,12), [0,10,20,30,40,50,60,70,80,90,100,120])\n",
    "_ = plt.xlabel('No. Traza', fontsize = 10, weight = 'semibold')\n",
    "_ = plt.ylabel('Frecuencia [Hz]', fontsize = 10, weight = 'semibold')\n",
    "_ = plt.title('Espectro de amplitud', fontsize=12, weight = 'semibold')\n",
    "_ = plt.grid(True,alpha=0.6,linestyle=':')"
   ]
  },
  {
   "cell_type": "markdown",
   "metadata": {},
   "source": [
    "<font size=2 color=black>**Figura 4.** Espectro de amplitud en escala lineal. </font>"
   ]
  },
  {
   "cell_type": "code",
   "execution_count": null,
   "metadata": {},
   "outputs": [],
   "source": [
    "plt.figure(figsize=[14,6])\n",
    "\n",
    "fase_rad = plt.imshow(fase.T, aspect='auto', cmap = 'brg')\n",
    "cbar= plt.colorbar(fase_rad, aspect=20, shrink=1)\n",
    "cbar.set_label('Ángulo [radianes]')\n",
    "_ = plt.yticks(np.linspace(0,376,12), [0,10,20,30,40,50,60,70,80,90,100,120])\n",
    "_ = plt.xlabel('No. Traza', fontsize = 10, weight = 'semibold')\n",
    "_ = plt.ylabel('Frecuencia [Hz]', fontsize = 10, weight = 'semibold')\n",
    "_ = plt.title('Espectro de fase', fontsize=12, weight = 'semibold')\n",
    "_ = plt.grid(True,alpha=0.6,linestyle=':')"
   ]
  },
  {
   "cell_type": "markdown",
   "metadata": {},
   "source": [
    "<font size=2 color=black>**Figura 5.** Espectro de fase en escala de radianes. </font>"
   ]
  },
  {
   "cell_type": "markdown",
   "metadata": {},
   "source": [
    "### Primera técnica"
   ]
  },
  {
   "cell_type": "markdown",
   "metadata": {},
   "source": [
    "Al graficar la amplitud versus frecuencia, se obtiene la gráfica espectral para cada una de las 601 trazas sísmica de la sección (Fig. 6); por lo tanto, calculamos la respuesta espectral promedio. Para ello, de la matriz **amp$_{(376,601)}$**, sumamos los renglones y dividimos por el número de trazas sísmicas, obtiendo vector columna **pot$_{(376)}$**. Para esto, ocupamos la función [numpy.matrix.sum](https://docs.scipy.org/doc/numpy-1.15.1/reference/generated/numpy.matrix.sum.html), con el parámetro `axis=0`, en las variables `amp` y `amp_db`.\n",
    "\n",
    "En la Fig. 7 se muestra el resultado de la respuesta espectral promedio. En la Figs. 8 y 9 se muestra el espectro de amplitud en escala decibel y lineal. En la Fig. 10 se muestra el espectro promedio en escala decibel y lineal en la misma imagen."
   ]
  },
  {
   "cell_type": "markdown",
   "metadata": {},
   "source": [
    "* ####  Amplitud (energía)"
   ]
  },
  {
   "cell_type": "code",
   "execution_count": null,
   "metadata": {},
   "outputs": [],
   "source": [
    "plt.figure(figsize=(9,5))\n",
    "\n",
    "_ = plt.plot(amp_db.T)\n",
    "_ = plt.ylabel('Amplitud [dB]', fontsize = 10, weight = 'semibold')\n",
    "_ = plt.xlabel('Frecuencia [Hz]', fontsize = 10, weight = 'semibold')\n",
    "_ = plt.grid(True,alpha=0.6,linestyle=':')"
   ]
  },
  {
   "cell_type": "markdown",
   "metadata": {},
   "source": [
    "<font size=2 color=black>**Figura 6.** Espectro de amplitud de las trazas sísmicas de la sección sísmica. </font>"
   ]
  },
  {
   "cell_type": "code",
   "execution_count": null,
   "metadata": {},
   "outputs": [],
   "source": [
    "pot = signal.medfilt(amp.sum(axis=0)/len(seis),11)\n",
    "pot_db = signal.medfilt(amp_db.sum(axis=0)/len(seis),11)"
   ]
  },
  {
   "cell_type": "code",
   "execution_count": null,
   "metadata": {},
   "outputs": [],
   "source": [
    "plt.figure(figsize=(9,5))\n",
    "\n",
    "_ = plt.plot(frec, amp_db.T, alpha = 0.017)\n",
    "_ = plt.plot(frec, pot_db, lw = 2, color = 'b')\n",
    "\n",
    "_ = plt.ylabel('Amplitud', fontsize = 10, weight = 'semibold')\n",
    "_ = plt.xlabel('Frecuencia [Hz]', fontsize = 10, weight = 'semibold')\n",
    "_ = plt.title('Espectro de amplitud [dB]', fontsize=12, weight = 'semibold')\n",
    "_ = plt.xlim(0,125)\n",
    "_ = plt.ylim(35,150)\n",
    "_ = plt.grid(True,alpha=0.6,linestyle=':')"
   ]
  },
  {
   "cell_type": "markdown",
   "metadata": {},
   "source": [
    "<font size=2 color=black>**Figura 7.** Respuesta espectral promedio. </font>"
   ]
  },
  {
   "cell_type": "code",
   "execution_count": null,
   "metadata": {},
   "outputs": [],
   "source": [
    "plt.figure(figsize=(9,5))\n",
    "\n",
    "\n",
    "_ = plt.bar(frec, pot_db)\n",
    "_ = plt.ylabel('Amplitud', fontsize = 10, weight = 'semibold')\n",
    "_ = plt.xlabel('Frecuencia [Hz]', fontsize = 10, weight = 'semibold')\n",
    "_ = plt.title('Espectro de amplitud [dB]', fontsize=12, weight = 'semibold')\n",
    "_ = plt.xlim(0,125)\n",
    "_ = plt.ylim(65,115)\n",
    "_ = plt.grid(True,alpha=0.6,linestyle=':')"
   ]
  },
  {
   "cell_type": "markdown",
   "metadata": {},
   "source": [
    "<font size=2 color=black>**Figura 8.** Espectro de amplitud promedio en escala decibel. </font>"
   ]
  },
  {
   "cell_type": "code",
   "execution_count": null,
   "metadata": {},
   "outputs": [],
   "source": [
    "plt.figure(figsize=(9,5))\n",
    "\n",
    "_ = plt.bar(frec, pot)\n",
    "_ = plt.ylabel('Amplitud', fontsize = 10, weight = 'semibold')\n",
    "_ = plt.xlabel('Frecuencia [Hz]', fontsize = 10, weight = 'semibold')\n",
    "_ = plt.title('Espectro de amplitud', fontsize=12, weight = 'semibold')\n",
    "_ = plt.xlim(0,120)\n",
    "_ = plt.grid(True,alpha=0.6,linestyle=':')"
   ]
  },
  {
   "cell_type": "markdown",
   "metadata": {},
   "source": [
    "<font size=2 color=black>**Figura 9.** Espectro de amplitud promedio en escala lineal. </font>"
   ]
  },
  {
   "cell_type": "code",
   "execution_count": null,
   "metadata": {},
   "outputs": [],
   "source": [
    "pot_nor = ((pot-min(pot))/(max(pot)-min(pot))) #Espectro de escala lineal normalizado [0,1]"
   ]
  },
  {
   "cell_type": "code",
   "execution_count": null,
   "metadata": {},
   "outputs": [],
   "source": [
    "fig, ax1 = plt.subplots(figsize=(9,5))\n",
    "\n",
    "color = 'tab:red'\n",
    "ax1.set_xlabel('Frecuencia [Hz]', fontsize = 10, weight = 'semibold')\n",
    "ax1.set_ylabel('Amplitud [1]', color = color, fontsize = 10, weight = 'semibold')\n",
    "ax1.plot(frec, pot_nor, color = color, lw = 2)\n",
    "ax1.tick_params(axis='y', labelcolor=color)\n",
    "\n",
    "ax2 = ax1.twinx()\n",
    "\n",
    "color = 'tab:blue'\n",
    "ax2.set_ylabel('Amplitud dB [dB]', fontsize = 10, color = color, weight = 'semibold')\n",
    "ax2.plot(frec, pot_db, lw = 2)\n",
    "ax2.tick_params(axis='y', labelcolor=color)\n",
    "\n",
    "plt.title('Espectro de amplitud', fontsize=12, weight = 'semibold')\n",
    "plt.xlim(0,125)\n",
    "\n",
    "plt.show()"
   ]
  },
  {
   "cell_type": "markdown",
   "metadata": {},
   "source": [
    "<font size=2 color=black>**Figura 10.** Espectro de amplitud promedio en escala decibel y normalizado. </font>"
   ]
  },
  {
   "cell_type": "markdown",
   "metadata": {},
   "source": [
    "* #### Fase (ángulo versus frecuencia)\n",
    "\n",
    "La Fig. 11 muestra de fondo el espectro de fase de las 601 trazas sísmicas de la sección, así como el espectro promedio de fase en color azul."
   ]
  },
  {
   "cell_type": "code",
   "execution_count": null,
   "metadata": {},
   "outputs": [],
   "source": [
    "fase_prom = fase.sum(axis=0)/len(seis)"
   ]
  },
  {
   "cell_type": "code",
   "execution_count": null,
   "metadata": {},
   "outputs": [],
   "source": [
    "plt.figure(figsize=(9,5))\n",
    "\n",
    "fase = np.angle((np.fft.rfft2(seis)), deg=True)\n",
    "\n",
    "_ = plt.plot(frec, fase.T, alpha = 0.008)\n",
    "_ = plt.plot(frec, fase_prom, lw = 1, color = 'b')\n",
    "_ = plt.ylabel('Amplitud [dB]', fontsize = 10, weight = 'semibold')\n",
    "_ = plt.xlabel('Frecuencia [Hz]', fontsize = 10, weight = 'semibold')\n",
    "_ = plt.ylim(-200,200)\n",
    "_ = plt.title('Espectro de fase', fontsize=12, weight = 'semibold')\n",
    "_ = plt.grid(True,alpha=0.6,linestyle=':')"
   ]
  },
  {
   "cell_type": "markdown",
   "metadata": {},
   "source": [
    "<font size=2 color=black>**Figura 11.** Espectro de fase promedio y de cada una de las trazas sísmicas de la sección en grados sexagesimales. </font>"
   ]
  },
  {
   "cell_type": "markdown",
   "metadata": {},
   "source": [
    "### Segunda técnica\n",
    "\n",
    "Se estima una traza equivalente de la sección sísmica. Con la función [numpy.matrix.sum](https://docs.scipy.org/doc/numpy-1.15.1/reference/generated/numpy.matrix.sum.html), obtenemos la traza promedio. La Fig. 12 muestra la traza sísmica equivalente."
   ]
  },
  {
   "cell_type": "code",
   "execution_count": null,
   "metadata": {},
   "outputs": [],
   "source": [
    "traza_eq = seis.sum(axis=0)/len(seis)\n",
    "x = np.arange(0,751,1)"
   ]
  },
  {
   "cell_type": "code",
   "execution_count": null,
   "metadata": {},
   "outputs": [],
   "source": [
    "plt.figure(figsize=(16,3))\n",
    "_ = plt.plot(traza_eq, color = 'k')\n",
    "_ = plt.xticks(np.linspace(0,751,7), [0.0,0.5,1.0,1.5,2.0,2.5,3.0])\n",
    "_ = plt.fill_between(x, traza_eq, 0, traza_eq < 0, color = 'b')\n",
    "_ = plt.fill_between(x, traza_eq, 0, traza_eq > 0, color = 'r')\n",
    "_ = plt.ylabel('Amplitud', fontsize = 10, weight = 'semibold')\n",
    "_ = plt.xlabel('Tiempo [s]', fontsize = 10, weight = 'semibold')\n",
    "_ = plt.title('Traza sísmica equivalente', fontsize=12, weight = 'semibold')\n",
    "_ = plt.xlim(0,751)\n",
    "_ = plt.grid(True,alpha=0.6,linestyle=':')"
   ]
  },
  {
   "cell_type": "markdown",
   "metadata": {},
   "source": [
    "<font size=2 color=black>**Figura 12.** Traza sísmica equivalente. </font>"
   ]
  },
  {
   "cell_type": "markdown",
   "metadata": {},
   "source": [
    "* ####  Amplitud (energía)\n",
    "\n",
    "La Fig. 13 muestra los espectro de amplitud en escala decibel y lineal de la traza sísmica equivalente:"
   ]
  },
  {
   "cell_type": "code",
   "execution_count": null,
   "metadata": {},
   "outputs": [],
   "source": [
    "amp_tr = np.abs(np.fft.rfft(traza_eq))\n",
    "amp_db_tr = 20*np.log10(np.abs(np.fft.rfft(traza_eq))) \n",
    "frec_tr = np.fft.rfftfreq(len(traza_eq), d = dt)"
   ]
  },
  {
   "cell_type": "code",
   "execution_count": null,
   "metadata": {},
   "outputs": [],
   "source": [
    "amp_nor = ((amp_tr-min(amp_tr))/(max(amp_tr)-min(amp_tr))) #Espectro de escala lineal normalizado [0,1]"
   ]
  },
  {
   "cell_type": "code",
   "execution_count": null,
   "metadata": {},
   "outputs": [],
   "source": [
    "fig, ax1 = plt.subplots(figsize=(9,5))\n",
    "\n",
    "color = 'tab:red'\n",
    "ax1.set_xlabel('Frecuencia [Hz]', fontsize = 10, weight = 'semibold')\n",
    "ax1.set_ylabel('Amplitud [dB]', color = color, fontsize = 10, weight = 'semibold')\n",
    "ax1.bar(frec_tr, signal.medfilt(amp_db_tr,5), color = color, lw = 2, alpha = 0.4)\n",
    "ax1.tick_params(axis='y', labelcolor=color)\n",
    "\n",
    "ax2 = ax1.twinx()\n",
    "\n",
    "color = 'tab:blue'\n",
    "ax2.set_ylabel('Amplitud [1]', fontsize = 10, color = color, weight = 'semibold')\n",
    "ax2.bar(frec_tr, signal.medfilt(amp_nor,5), lw = 2, alpha = 0.6)\n",
    "ax2.tick_params(axis='y', labelcolor=color)\n",
    "\n",
    "plt.title('Espectro de amplitud', fontsize=12, weight = 'semibold')\n",
    "plt.xlim(0,125)\n",
    "\n",
    "plt.show()"
   ]
  },
  {
   "cell_type": "markdown",
   "metadata": {},
   "source": [
    "<font size=2 color=black>**Figura 13.** Espectro de amplitud en escala decibel y lineal. </font>"
   ]
  },
  {
   "cell_type": "markdown",
   "metadata": {},
   "source": [
    "* #### Fase (ángulo versus frecuencia)\n",
    "\n",
    "La Fig. 14 muestra el espectro de fase de la traza sísmica equivalente."
   ]
  },
  {
   "cell_type": "code",
   "execution_count": null,
   "metadata": {
    "scrolled": false
   },
   "outputs": [],
   "source": [
    "amp_tra = np.fft.rfft(traza_eq)\n",
    "fase_traza = np.angle((amp_tra), deg=True)"
   ]
  },
  {
   "cell_type": "code",
   "execution_count": null,
   "metadata": {},
   "outputs": [],
   "source": [
    "plt.figure(figsize=(9,5))\n",
    "\n",
    "_ = plt.plot(frec_tr,fase_traza)\n",
    "_ = plt.ylabel('Grados sexagesimales', fontsize = 10, weight = 'semibold')\n",
    "_ = plt.xlabel('Frecuencia [Hz]', fontsize = 10, weight = 'semibold')\n",
    "_ = plt.title('Espectro de fase', fontsize=12, weight = 'semibold')\n",
    "#_ = plt.xlim(0,120)\n",
    "_ = plt.grid(True,alpha=0.6,linestyle=':')"
   ]
  },
  {
   "cell_type": "markdown",
   "metadata": {},
   "source": [
    "<font size=2 color=black>**Figura 14.** Espectro de fase en grados sexagesimales. </font>"
   ]
  },
  {
   "cell_type": "markdown",
   "metadata": {},
   "source": [
    "### Comparación de resultados entre las primera y segunda técnicas \n",
    "\n",
    "Las Figs. 15 y 16 muestran las respuestas espectrales de amplitud y fase entre las técnicas empleadas. En mi opinión, concluyo que la primera técnica son la mejor aproximación promedio de las respuestas espectrales. "
   ]
  },
  {
   "cell_type": "code",
   "execution_count": null,
   "metadata": {},
   "outputs": [],
   "source": [
    "plt.figure(figsize=(9,5))\n",
    "\n",
    "\n",
    "_ = plt.bar(frec, pot_db, alpha = 0.4, label = 'Tec. no. 1')\n",
    "_ = plt.bar(frec, signal.medfilt(amp_db_tr,23), alpha = 0.4, label = 'Tec. no. 2')\n",
    "_ = plt.ylabel('Amplitud [dB]', fontsize = 10, weight = 'semibold')\n",
    "_ = plt.xlabel('Frecuencia [Hz]', fontsize = 10, weight = 'semibold')\n",
    "_ = plt.title('Diferencia entre técnicas', fontsize=12, weight = 'semibold')\n",
    "_ = plt.legend(fontsize = 11)\n",
    "_ = plt.xlim(0,125)\n",
    "_ = plt.ylim(20,115)\n",
    "_ = plt.grid(True,alpha=0.6,linestyle=':')"
   ]
  },
  {
   "cell_type": "markdown",
   "metadata": {},
   "source": [
    "<font size=2 color=black>**Figura 15.** Espectro de amplitud de las técnicas 1 y 2, respectivamente.</font>"
   ]
  },
  {
   "cell_type": "code",
   "execution_count": null,
   "metadata": {},
   "outputs": [],
   "source": [
    "plt.figure(figsize=(9,5))\n",
    "\n",
    "_ = plt.plot(frec, fase_prom, lw = 1, label = 'Sol no. 1')\n",
    "_ = plt.plot(frec_tr,fase_traza, lw = 1, label = 'Sol no. 2')\n",
    "_ = plt.ylabel('Grados sexagesimales', fontsize = 10, weight = 'semibold')\n",
    "_ = plt.xlabel('Frecuencia [Hz]', fontsize = 10, weight = 'semibold')\n",
    "_ = plt.title('Diferencia entre técnicas', fontsize=12, weight = 'semibold')\n",
    "_ = plt.legend(fontsize = 11)\n",
    "_ = plt.ylim(-180, 180)\n",
    "\n",
    "_ = plt.grid(True,alpha=0.6,linestyle=':')"
   ]
  },
  {
   "cell_type": "markdown",
   "metadata": {},
   "source": [
    "<font size=2 color=black>**Figura 16.** Espectro de fase de las técnicas 1 y 2, respectivamente.</font>"
   ]
  },
  {
   "cell_type": "markdown",
   "metadata": {},
   "source": [
    "### Trabajos a futuro\n",
    "\n",
    ">> 1.- Estimar el espectro de amplitud y fase con base en un promedio ponderado que considere la distribución y contribución de los datos. \n",
    "\n",
    ">> 2.- Graficar los espectros de amplitud y fase de la sección sísmica obtenidos con algún software y comparar los resultados."
   ]
  }
 ],
 "metadata": {
  "kernelspec": {
   "display_name": "VPython",
   "language": "python",
   "name": "vpython"
  },
  "language_info": {
   "codemirror_mode": {
    "name": "ipython",
    "version": 3
   },
   "file_extension": ".py",
   "mimetype": "text/x-python",
   "name": "python",
   "nbconvert_exporter": "python",
   "pygments_lexer": "ipython3",
   "version": "3.7.0"
  }
 },
 "nbformat": 4,
 "nbformat_minor": 2
}
