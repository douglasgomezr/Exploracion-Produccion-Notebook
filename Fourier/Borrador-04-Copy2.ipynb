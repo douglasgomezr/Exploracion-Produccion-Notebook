{
 "cells": [
  {
   "cell_type": "markdown",
   "metadata": {},
   "source": [
    "### Febrero 2019\n",
    "#### Versión 01"
   ]
  },
  {
   "cell_type": "markdown",
   "metadata": {},
   "source": [
    "## Transformada de Fourier Discreta\n",
    "\n",
    "La Transformada de Fourier Discreta (DFT, por sus siglas en inglés) se define como el producto interno (también conocido como producto punto) entre la señal y el vector base de Fourier (Prandoni y Vetterli, 2008),\n",
    "\n",
    "$$\n",
    "\\mathbf{X[k] = \\langle w^{(k)}, x \\rangle  = \\sum_{n = 0}^{N-1} x[n] e^{-i \\frac{2\\pi}{N} nk}, \n",
    "                                                                                     \\quad k= 0,\\ldots, N-1 }, \n",
    "                                                                                     \\qquad \\text Ec.1                                                                                  \n",
    "$$\n",
    "\n",
    "Donde:\n",
    "\n",
    "   * $\\mathbf{X[k]}$ = Transformada discreta de Fourier\n",
    "   * $\\mathbf{x[n]}$ = señal\n",
    "   * $\\mathbf{N}$ = número de muestras\n",
    "   * $\\mathbf{k}$ = frecuencia circular (0 [Hz] a N-1 [Hz])\n",
    "   \n",
    "Dada una señal $\\mathbf{x[n]}$, el espectro de amplitud esta dado por\n",
    "\n",
    "$$\n",
    "\\mathbf{\\big|X[k]\\big|}, \\qquad \\text Ec.1a\n",
    "$$ \n",
    "\n",
    "y el espectro de fase por \n",
    "\n",
    "$$\n",
    "\\measuredangle \\mathbf{X[k]}, \\qquad \\text Ec.1b\n",
    "$$ \n",
    "\n",
    "envuelta en el intervalo $[- \\pi, \\pi]$. "
   ]
  },
  {
   "cell_type": "markdown",
   "metadata": {},
   "source": [
    "### Onda sinusoidad\n",
    "\n",
    "Sea una onda sinusoidad 1D, defina como (Robinson y Treitel, 2008)\n",
    "$$\n",
    "u(x,t) = A \\cos (\\mathit{k}x\\pm\\omega t), \\qquad \\text Ec. 2\n",
    "$$\n",
    "\n",
    "donde:\n",
    "\n",
    "   * $\\mathit{k} = \\mathbf{\\frac{2\\pi}{\\lambda}}$, número de onda o propagación\n",
    "   * $\\mathbf{\\omega} = 2\\pi f$, frecuencia angular\n",
    "  \n",
    "Caso 1. Onda sinusoidad en función del tiempo para $x = 0$, \n",
    "$$\n",
    "\\left.u(x,t) \\right|_{x=0} = u(t) = A \\cos(\\pm \\omega t) = A \\cos(\\pm 2\\pi f t),  \\qquad \\text Ec. 2a\n",
    "$$\n",
    "Caso 2. Onda sinusoidad en función del espacio para $t = 0$, \n",
    "$$\n",
    "\\left.u(x,t) \\right|_{t=0} = u(x) = A \\cos(\\mathit{k}x) = A \\cos \\left(\\frac{2\\pi}{\\lambda} x \\right),  \\qquad \\text Ec. 2b\n",
    "$$\n",
    "\n",
    "La frecuencia temporal y espacial de muestreo máxima, está dada por,\n",
    "$$\n",
    "f_{nyquist}(t) = \\frac{1}{2 \\Delta t}, \\quad f_{nyquist}(x) = \\frac{1}{2 \\Delta t}.  \\qquad \\text Ec. 3\n",
    "$$"
   ]
  },
  {
   "cell_type": "code",
   "execution_count": 1,
   "metadata": {},
   "outputs": [],
   "source": [
    "import matplotlib.pyplot as plt\n",
    "import numpy as np\n",
    "import pandas as pd\n",
    "from scipy import signal"
   ]
  },
  {
   "cell_type": "code",
   "execution_count": 2,
   "metadata": {},
   "outputs": [],
   "source": [
    "def DFT(x):\n",
    "    'DFT a partir del producto interno'\n",
    "    N = x.size\n",
    "    n = np.arange(N)\n",
    "    k = n.reshape((N,1))\n",
    "    e = np.exp(-2j*np.pi*k*n/N)\n",
    "    return np.dot(e,x)"
   ]
  },
  {
   "cell_type": "code",
   "execution_count": 3,
   "metadata": {},
   "outputs": [],
   "source": [
    "############################\n",
    "#Caso 1:función temporal\n",
    "############################\n",
    "dt = 0.001\n",
    "t = np.arange(0, 10, dt)\n",
    "nt = t.size\n",
    "f = 8\n",
    "############################\n",
    "#Frecuencua de Nyquist\n",
    "############################\n",
    "fn = 1/(2*dt)"
   ]
  },
  {
   "cell_type": "code",
   "execution_count": 4,
   "metadata": {},
   "outputs": [
    {
     "name": "stdout",
     "output_type": "stream",
     "text": [
      "Frecuencia Nyquist = 500.0 [Hz]\n",
      "Frecuencia circular = 8 [Hz]\n",
      "Intervalo de muestreo = 0.001 [s]\n"
     ]
    }
   ],
   "source": [
    "print('Frecuencia Nyquist =', fn, '[Hz]')\n",
    "print ('Frecuencia circular =', f, '[Hz]')\n",
    "print ('Intervalo de muestreo =',dt, '[s]')"
   ]
  },
  {
   "cell_type": "code",
   "execution_count": null,
   "metadata": {},
   "outputs": [],
   "source": [
    "#Señal\n",
    "sx = np.cos(-2*3.1416*f*t)\n",
    "#DFT de la señal\n",
    "sX = DFT(sx)"
   ]
  },
  {
   "cell_type": "code",
   "execution_count": null,
   "metadata": {},
   "outputs": [
    {
     "data": {
      "image/png": "[encoded data removed]",
      "text/plain": [
       "<Figure size 1008x144 with 1 Axes>"
      ]
     },
     "metadata": {
      "needs_background": "light"
     },
     "output_type": "display_data"
    }
   ],
   "source": [
    "plt.figure(figsize=(14,2))\n",
    "_ = plt.plot(t,sx, '.')\n",
    "_ = plt.xlim(0,1)\n",
    "_ = plt.xticks(np.arange(0,1.1,0.1))\n",
    "_ = plt.xlabel('Tiempo [s]', fontsize = 11, weight = 'semibold')\n",
    "_ = plt.ylabel('Amplitud', fontsize = 11, weight = 'semibold')\n",
    "_ = plt.grid(True, alpha = 0.5, color = 'grey', linestyle = ':')"
   ]
  },
  {
   "cell_type": "code",
   "execution_count": null,
   "metadata": {},
   "outputs": [
    {
     "data": {
      "image/png": "[encoded data removed]",
      "text/plain": [
       "<Figure size 576x216 with 1 Axes>"
      ]
     },
     "metadata": {
      "needs_background": "light"
     },
     "output_type": "display_data"
    }
   ],
   "source": [
    "plt.figure(figsize=(8,3)) \n",
    "\n",
    "_ = plt.stem(abs(sX), basefmt = 'steelblue')\n",
    "_ = plt.xlabel('$k= 0,\\ldots, N-1$', fontsize = 11, weight = 'semibold')\n",
    "_ = plt.ylabel('Amplitud', fontsize = 11, weight = 'semibold')\n",
    "_ = plt.grid(True, alpha = 0.5, color = 'grey', linestyle = ':')"
   ]
  },
  {
   "cell_type": "code",
   "execution_count": null,
   "metadata": {},
   "outputs": [],
   "source": [
    "def dft_shift(X):\n",
    "    N = len(X)\n",
    "    if (N % 2 ==0):\n",
    "        return np.arange(-N/2, N/2 + 1), np.concatenate((X[int(N/2):], X[:int(N/2)+1]))\n",
    "    else:\n",
    "        return np.arange(-N(N-1)/2, (N-1)/2 + 1), np.concatenate((X[(int((N+1)/2))]))"
   ]
  },
  {
   "cell_type": "code",
   "execution_count": null,
   "metadata": {},
   "outputs": [],
   "source": [
    "plt.figure(figsize=(8,3))\n",
    "\n",
    "kn, y = dft_shift(sX)\n",
    "_ = plt.stem(kn, abs(y), basefmt = 'steelblue')\n",
    "_ = plt.xlabel('Frecuencia índice $[k]$', fontsize = 11, weight = 'semibold')\n",
    "_ = plt.ylabel('Amplitud', fontsize = 11, weight = 'semibold')\n",
    "_ = plt.grid(True, alpha = 0.5, color = 'grey', linestyle = ':')"
   ]
  },
  {
   "cell_type": "code",
   "execution_count": null,
   "metadata": {},
   "outputs": [],
   "source": [
    "hz = np.linspace(-fn,fn,kn.size)"
   ]
  },
  {
   "cell_type": "code",
   "execution_count": null,
   "metadata": {},
   "outputs": [],
   "source": [
    "plt.figure(figsize=(8,3)) \n",
    "\n",
    "_ = plt.stem(hz, abs(y),  basefmt = 'steelblue')\n",
    "_ = plt.xlim(0,20)\n",
    "_ = plt.xticks(np.arange(21))\n",
    "_ = plt.xlabel('Frecuencia Hz]', fontsize = 11, weight = 'semibold', color = 'k')\n",
    "_ = plt.ylabel('Amplitud', fontsize = 11, weight = 'semibold', color = 'k')\n",
    "_ = plt.title('Espectro de amplitud', fontsize = 16, weight = 'semibold')\n",
    "_ = plt.grid(True, alpha = 0.5, color = 'grey', linestyle = ':')"
   ]
  },
  {
   "cell_type": "markdown",
   "metadata": {},
   "source": [
    "### b) Usando la biblioteca numpy.fft\n",
    "Para ver documentación, consultar `help(np.fft)`."
   ]
  },
  {
   "cell_type": "markdown",
   "metadata": {},
   "source": [
    "#### Caso 2: función espacial\n",
    "* $x_{1, \\ldots, n}$: serie de espacio n-enésima\n",
    "* $dx_{1, \\ldots, n}$: intervalo de muestreo espacial n-enésimo\n",
    "* $nx_{1, \\ldots, n}$: longitud temporal n-enésimo\n",
    "* $lw_{1, \\ldots, n}$: longitud de onda"
   ]
  },
  {
   "cell_type": "code",
   "execution_count": null,
   "metadata": {},
   "outputs": [],
   "source": [
    "############################\n",
    "#Caso 1:función temporal\n",
    "############################\n",
    "dt = 0.001\n",
    "t = np.arange(0, 10, dt)\n",
    "nt = t.size\n",
    "f = 8\n",
    "############################\n",
    "#Dominio espacial\n",
    "############################\n",
    "dx = 0.001\n",
    "x = np.arange(0, 10, dx)\n",
    "nx = x.size\n",
    "v = 2\n",
    "lw = v/f\n",
    "############################\n",
    "#Frecuencua de Nyquist\n",
    "############################\n",
    "fnt1 = 1/(2*dt)\n",
    "fnx2 = 1/(2*dx)"
   ]
  },
  {
   "cell_type": "code",
   "execution_count": null,
   "metadata": {},
   "outputs": [],
   "source": [
    "print('Frecuencia Nyquist temporal =', fnt1, '[Hz]')\n",
    "print('Frecuencia Nyquist espacial =', fnx2, '[1/m]')\n",
    "print ('Frecuencia circular =', f, '[Hz]')\n",
    "print ('Longitud de onda =',lw, '[m]')\n",
    "print ('Velocidad de fase =',v, '[m/s]')"
   ]
  },
  {
   "cell_type": "code",
   "execution_count": null,
   "metadata": {},
   "outputs": [],
   "source": [
    "signalt = np.cos(-2*3.1416*f*t)\n",
    "signalx = np.cos((2*3.1416/lw)*x)"
   ]
  },
  {
   "cell_type": "code",
   "execution_count": null,
   "metadata": {},
   "outputs": [],
   "source": [
    "plt.figure(figsize=(14,6))\n",
    "\n",
    "plt.subplot(2,1,1)\n",
    "_ = plt.plot(t,signalt, 'b.', markersize = 6)\n",
    "_ = plt.plot(t,signalt, '--b', lw = 1.2)\n",
    "_ = plt.xlim(0,4)\n",
    "_ = plt.ylim(-1.2,1.2)\n",
    "_ = plt.xticks(np.arange(5), [''])\n",
    "_ = plt.xlabel('Tiempo [s]', fontsize = 11, weight = 'semibold', color= 'k')\n",
    "_ = plt.ylabel('Amplitud', fontsize = 11, weight = 'semibold', color = 'k')\n",
    "_ = plt.grid(True, alpha = 0.5, color = 'grey', linestyle = ':')\n",
    "_ = plt.title('Onda sinusoidal', fontsize = 16, weight = 'semibold')\n",
    "\n",
    "plt.subplot(2,1,2)\n",
    "_ = plt.plot(x,signalx, '.r', markersize = 6)\n",
    "_ = plt.plot(x,signalx, '--r', lw = 1.2)\n",
    "_ = plt.xlim(0,4)\n",
    "_ = plt.ylim(-1.2,1.2)\n",
    "_ = plt.xticks(np.arange(5))\n",
    "_ = plt.xlabel('Distancia [s]', fontsize = 11, weight = 'semibold', color = 'k')\n",
    "_ = plt.ylabel('Amplitud', fontsize = 11, weight = 'semibold', color = 'k')\n",
    "_ = plt.grid(True, alpha = 0.5, color = 'grey', linestyle = ':')"
   ]
  },
  {
   "cell_type": "code",
   "execution_count": null,
   "metadata": {},
   "outputs": [],
   "source": [
    "#Transformada de Fourier-Espectro de amplitud\n",
    "St = np.abs(np.fft.rfft(signalt))\n",
    "freq1 = np.fft.rfftfreq(nt, d = dt)\n",
    "Sx = np.abs(np.fft.rfft(signalx))\n",
    "freq2 = np.fft.rfftfreq(nx, d = dx)\n",
    "#Espectro de fase\n",
    "Stf = np.angle(np.fft.rfft(signalt), deg = False)\n",
    "Sxf = np.angle(np.fft.rfft(signalx), deg = False)"
   ]
  },
  {
   "cell_type": "code",
   "execution_count": null,
   "metadata": {},
   "outputs": [],
   "source": [
    "plt.figure(figsize=(8,6)) \n",
    "\n",
    "plt.subplot(2,1,1)\n",
    "_ = plt.stem(freq1, St, markerfmt = 'bo', linefmt = 'b', basefmt = 'b')\n",
    "_ = plt.xlim(0,20)\n",
    "_ = plt.xticks(np.arange(21), [''])\n",
    "_ = plt.xlabel('Frecuencia temporal [Hz]', fontsize = 11, weight = 'semibold', color = 'k')\n",
    "_ = plt.ylabel('Amplitud', fontsize = 11, weight = 'semibold', color = 'k')\n",
    "_ = plt.title('Espectro de amplitud', fontsize = 16, weight = 'semibold')\n",
    "\n",
    "plt.subplot(2,1,2)\n",
    "_ = plt.stem(freq2, Sx, markerfmt = 'ro', linefmt = 'r', basefmt = 'r')\n",
    "_ = plt.xlim(0,20)\n",
    "_ = plt.xticks(np.arange(21))\n",
    "_ = plt.xlabel('Frecuencia espacial [1/m]', fontsize = 11, weight = 'semibold', color = 'k')\n",
    "_ = plt.ylabel('Amplitud', fontsize = 11, weight = 'semibold', color = 'k')\n"
   ]
  },
  {
   "cell_type": "code",
   "execution_count": null,
   "metadata": {},
   "outputs": [],
   "source": [
    "plt.figure(figsize=(8,6)) \n",
    "\n",
    "plt.subplot(2,1,1)\n",
    "_ = plt.plot(freq1, Stf,  'ob', markersize = 3, lw = 0.5)\n",
    "_ = plt.xlim(0,20)\n",
    "_ = plt.ylim(-3.5,3.5)\n",
    "_ = plt.xticks(np.arange(21), [''])\n",
    "_ = plt.xlabel('Frecuencia temporal [Hz]', fontsize = 11, weight = 'semibold', color = 'k')\n",
    "_ = plt.ylabel('Fase [rad]', fontsize = 11, weight = 'semibold', color = 'k')\n",
    "_ = plt.title('Espectro de fase', fontsize = 16, weight = 'semibold')\n",
    "_ = plt.grid(True, alpha = 0.5, color = 'grey', linestyle = ':')\n",
    "#_ = plt.legend(loc = 'upper right')\n",
    "\n",
    "plt.subplot(2,1,2)\n",
    "_ = plt.plot(freq2, Sxf,  'or', markersize = 3, lw = 0.5)\n",
    "_ = plt.xlim(0,20)\n",
    "_ = plt.xticks(np.arange(21))\n",
    "_ = plt.ylim(-3.5,3.5)\n",
    "_ = plt.xlabel('Frecuencia espacial [1/m]', fontsize = 11, weight = 'semibold', color = 'k')\n",
    "_ = plt.ylabel('Fase', fontsize = 11, weight = 'semibold', color = 'k')\n",
    "_ = plt.grid(True, alpha = 0.5, color = 'grey', linestyle = ':')\n",
    "#_ = plt.legend(loc = 'upper right')"
   ]
  },
  {
   "cell_type": "markdown",
   "metadata": {},
   "source": [
    "## DFT con múltiples ondas sinusoidales sin y con ruido aleatorio"
   ]
  },
  {
   "cell_type": "code",
   "execution_count": null,
   "metadata": {},
   "outputs": [],
   "source": [
    "#Parámetros\n",
    "dt = 0.001\n",
    "t = np.arange(0, 10, dt)\n",
    "pi = 3.1416\n",
    "n = t.size\n",
    "f = [3,1,7,12,18]\n",
    "a = [10,2,5,8,3]\n",
    "p = [0, pi/4, -pi, pi/2, pi]"
   ]
  },
  {
   "cell_type": "code",
   "execution_count": null,
   "metadata": {},
   "outputs": [],
   "source": [
    "#Función sin ruido\n",
    "swave = np.zeros(n)\n",
    "for m in np.arange(0, 5):\n",
    "    swave = swave + a[m]*np.sin(2*pi*f[m]*t+p[m])"
   ]
  },
  {
   "cell_type": "code",
   "execution_count": null,
   "metadata": {},
   "outputs": [],
   "source": [
    "#Función con ruido\n",
    "swaveN = swave + np.random.randn(n)*20"
   ]
  },
  {
   "cell_type": "code",
   "execution_count": null,
   "metadata": {},
   "outputs": [],
   "source": [
    "plt.figure(figsize=(14,6))\n",
    "\n",
    "plt.subplot(2,1,1)\n",
    "_ = plt.plot(t, swave, 'k', label = 'Sin ruido')\n",
    "_ = plt.xlim(0,6)\n",
    "_ = plt.ylim(-90,90)\n",
    "_ = plt.xticks(np.arange(7), [''])\n",
    "_ = plt.ylabel('Amplitud', fontsize = 11, weight = 'semibold', color= 'k')\n",
    "_ = plt.grid(True, alpha = 0.5, color = 'grey', linestyle = ':')\n",
    "_ = plt.title('Ondas sinusoidales', fontsize = 16, weight = 'semibold')\n",
    "_ = plt.legend(loc = 'upper right')\n",
    "\n",
    "plt.subplot(2,1,2)\n",
    "_ = plt.plot(t, swaveN, label = 'Con ruido')\n",
    "_ = plt.xlim(0,6)\n",
    "_ = plt.ylim(-90,90)\n",
    "_ = plt.xticks(np.arange(7))\n",
    "_ = plt.xlabel('Tiempo [s]', fontsize = 11, weight = 'semibold', color= 'k')\n",
    "_ = plt.ylabel('Amplitud', fontsize = 11, weight = 'semibold', color= 'k')\n",
    "_ = plt.grid(True, alpha = 0.5, color = 'grey', linestyle = ':')\n",
    "_ = plt.legend(loc = 'upper right')"
   ]
  },
  {
   "cell_type": "code",
   "execution_count": null,
   "metadata": {},
   "outputs": [],
   "source": [
    "#Transformada de Fourier-Espectro de amplitud\n",
    "sW = np.abs(np.fft.rfft(swave))\n",
    "sWN = np.abs(np.fft.rfft(swaveN))\n",
    "f = np.fft.rfftfreq(n, d = dt)\n",
    "#Espectro de fase\n",
    "sF = np.angle(np.fft.rfft(swave))\n",
    "sFN = np.angle(np.fft.rfft(swaveN))"
   ]
  },
  {
   "cell_type": "code",
   "execution_count": null,
   "metadata": {},
   "outputs": [],
   "source": [
    "plt.figure(figsize=(8,6)) \n",
    "\n",
    "plt.subplot(2,1,1)\n",
    "_ = plt.stem(f, sW, markerfmt = 'ko', linefmt = 'k', basefmt = 'k', label = 'Sin ruido')\n",
    "_ = plt.xlim(0,20)\n",
    "_ = plt.xticks(np.arange(21), [''])\n",
    "_ = plt.ylabel('Amplitud', fontsize = 11, weight = 'semibold', color = 'k')\n",
    "_ = plt.title('Espectro de amplitud', fontsize = 16, weight = 'semibold')\n",
    "_ = plt.grid(True, alpha = 0.5, color = 'grey', linestyle = ':')\n",
    "_ = plt.legend(loc = 'upper right')\n",
    "\n",
    "plt.subplot(2,1,2)\n",
    "_ = plt.stem(f, sWN, linefmt = 'steelblue', basefmt = 'steelblue', label = 'Con ruido')\n",
    "_ = plt.xlim(0,20)\n",
    "_ = plt.xticks(np.arange(21))\n",
    "_ = plt.xlabel('Frecuencia [Hz]', fontsize = 11, weight = 'semibold', color = 'k')\n",
    "_ = plt.ylabel('Amplitud', fontsize = 11, weight = 'semibold', color = 'k')\n",
    "_ = plt.grid(True, alpha = 0.5, color = 'grey', linestyle = ':')\n",
    "_ = plt.legend(loc = 'upper right')"
   ]
  },
  {
   "cell_type": "code",
   "execution_count": null,
   "metadata": {},
   "outputs": [],
   "source": [
    "plt.figure(figsize=(8,6)) \n",
    "\n",
    "plt.subplot(2,1,1)\n",
    "_ = plt.plot(f, sF, '.r', label = 'Sin ruido')\n",
    "_ = plt.xlim(0,20)\n",
    "_ = plt.ylim(-pi*1.5,pi*1.5)\n",
    "_ = plt.xticks(np.arange(21), [''])\n",
    "_ = plt.ylabel('Fase [rad]', fontsize = 11, weight = 'semibold', color = 'k')\n",
    "_ = plt.title('Espectro de fase', fontsize = 16, weight = 'semibold')\n",
    "_ = plt.grid(True, alpha = 0.5, color = 'grey', linestyle = ':')\n",
    "_ = plt.legend(loc = 'upper right')\n",
    "\n",
    "plt.subplot(2,1,2)\n",
    "_ = plt.plot(f, sFN,'.--', label = 'Con ruido')\n",
    "_ = plt.xlim(0,20)\n",
    "_ = plt.ylim(-pi*1.5,pi*1.5)\n",
    "_ = plt.xticks(np.arange(21))\n",
    "_ = plt.xlabel('Frecuencia [Hz]', fontsize = 11, weight = 'semibold', color = 'k')\n",
    "_ = plt.ylabel('Fase [rad]', fontsize = 11, weight = 'semibold', color = 'k')\n",
    "_ = plt.grid(True, alpha = 0.5, color = 'grey', linestyle = ':')\n",
    "_ = plt.legend(loc = 'upper right')"
   ]
  },
  {
   "cell_type": "markdown",
   "metadata": {},
   "source": [
    "## DFT de una traza sísmica en el dominio del tiempo y espacio"
   ]
  },
  {
   "cell_type": "code",
   "execution_count": null,
   "metadata": {},
   "outputs": [],
   "source": [
    "sism_z = pd.read_csv('well_l30.csv')\n",
    "sism_t = pd.read_csv('seismic_amplitude_time.csv')\n",
    "pot_od = pd.read_csv('pot_seismic_amplitude_time.csv') #Espectro de amplitud calculado con OpendTect\n",
    "potdb_od = pd.read_csv('potdb_seismic_amplitude_time.csv')\n",
    "print('Dominio profundidad:', sism_z.columns)\n",
    "print('Dominio tiempo:', sism_t.columns)\n",
    "print('Potencia OD:', pot_od.columns)\n",
    "print('Potencia OD:', potdb_od.columns)"
   ]
  },
  {
   "cell_type": "code",
   "execution_count": null,
   "metadata": {},
   "outputs": [],
   "source": [
    "plt.figure(figsize=(14,7.5))\n",
    "\n",
    "plt.subplot(2,1,1)\n",
    "_ = plt.plot(sism_z['depth'],sism_z['amplitud'], 'b')\n",
    "_ = plt.xlim(0,4350)\n",
    "_ = plt.xticks(np.arange(0,4350,250))\n",
    "_ = plt.xlabel('Profundidad [m]', fontsize = 11, weight = 'semibold')\n",
    "_ = plt.ylabel('Amplitud', fontsize = 11, weight = 'semibold')\n",
    "_ = plt.title('Traza sísmica', fontsize = 16, weight = 'semibold')\n",
    "_ = plt.grid(True, alpha = 0.5, color = 'grey', linestyle = ':')\n",
    "\n",
    "\n",
    "plt.subplot(2,1,2)\n",
    "_ = plt.plot(sism_t['time'],sism_t['seis_amp'], 'b')\n",
    "_ = plt.xlim(0,6)\n",
    "_ = plt.xticks(np.arange(0,6.025,0.25))\n",
    "_ = plt.xlabel('Tiempo [s]', fontsize = 11, weight = 'semibold')\n",
    "_ = plt.ylabel('Amplitud', fontsize = 11, weight = 'semibold')\n",
    "_ = plt.grid(True, alpha = 0.5, color = 'grey', linestyle = ':')\n"
   ]
  },
  {
   "cell_type": "code",
   "execution_count": null,
   "metadata": {},
   "outputs": [],
   "source": [
    "#Transformada de Fourier espacial\n",
    "sismX = np.abs(np.fft.rfft(sism_z['amplitud']))\n",
    "fX = np.fft.rfftfreq(sism_z['amplitud'].size, d = 0.15)\n",
    "#Transformada inversa de Fourier espacial\n",
    "isismX = np.fft.irfft(np.fft.rfft(sism_z['amplitud']))"
   ]
  },
  {
   "cell_type": "code",
   "execution_count": null,
   "metadata": {},
   "outputs": [],
   "source": [
    "#Transformada de Fourier temporal\n",
    "sismT = np.abs(np.fft.rfft(sism_t['seis_amp']))\n",
    "fT = np.fft.rfftfreq(sism_t['time'].size, d = 0.004)\n",
    "#Transformada inversa de Fourier temporal\n",
    "isismT =np.fft.irfft(np.fft.rfft(sism_t['seis_amp']))\n",
    "#Espectro de fase\n",
    "sismFt = np.angle(np.fft.rfft(sism_t['seis_amp']))\n",
    "sismFx = np.angle(np.fft.rfft(sism_z['amplitud']))"
   ]
  },
  {
   "cell_type": "code",
   "execution_count": null,
   "metadata": {},
   "outputs": [],
   "source": [
    "plt.figure(figsize=(8,8)) \n",
    "\n",
    "plt.subplot(2,1,1)\n",
    "_ = plt.stem(fX, sismX, markerfmt = 'k', linefmt = 'k', basefmt = 'k')\n",
    "_ = plt.xlim(0,0.1)\n",
    "_ = plt.xticks(np.arange(0, 0.11, 0.01))\n",
    "_ = plt.ylabel('Amplitud', fontsize = 11, weight = 'semibold', color = 'k')\n",
    "_ = plt.title('Espectro de amplitud', fontsize = 16, weight = 'semibold')\n",
    "_ = plt.xlabel('Número de onda [1/m]', fontsize = 11, weight = 'semibold', color = 'k')\n",
    "_ = plt.grid(True, alpha = 0.5, color = 'grey', linestyle = ':')\n",
    "\n",
    "plt.subplot(2,1,2)\n",
    "_ = plt.stem(fT, sismT, markerfmt = 'k', linefmt = 'k', basefmt = 'k')\n",
    "_ = plt.xlim(0,120)\n",
    "_ = plt.xticks(np.arange(0,130,10))\n",
    "_ = plt.xlabel('Frecuencia [Hz]', fontsize = 11, weight = 'semibold', color = 'k')\n",
    "_ = plt.ylabel('Amplitud', fontsize = 11, weight = 'semibold', color = 'k')\n",
    "_ = plt.grid(True, alpha = 0.5, color = 'grey', linestyle = ':')"
   ]
  },
  {
   "cell_type": "code",
   "execution_count": null,
   "metadata": {},
   "outputs": [],
   "source": [
    "plt.figure(figsize=(8,5)) \n",
    "\n",
    "_ = plt.stem(pot_od['freq'], pot_od['pot'], markerfmt = 'green', linefmt = 'green', basefmt = 'green',\n",
    "             label = 'FFT con OpendTect')\n",
    "_ = plt.stem(fT, sismT, markerfmt = 'k', linefmt = 'k', basefmt = 'k', label = 'FFT con Numpy')\n",
    "_ = plt.xlim(0,120)\n",
    "_ = plt.legend()\n",
    "_ = plt.xticks(np.arange(0,130,10))\n",
    "_ = plt.title('Espectro de amplitud', fontsize = 16, weight = 'semibold')\n",
    "_ = plt.xlabel('Frecuencia [Hz]', fontsize = 12, weight = 'semibold', color = 'k')\n",
    "_ = plt.ylabel('Amplitud', fontsize = 11, weight = 'semibold', color = 'k')\n",
    "_ = plt.grid(True, alpha = 0.5, color = 'grey', linestyle = ':')"
   ]
  },
  {
   "cell_type": "code",
   "execution_count": null,
   "metadata": {},
   "outputs": [],
   "source": [
    "plt.figure(figsize=(8,5)) \n",
    "\n",
    "\n",
    "_ = plt.stem(pot_od['freq'], 20*np.log10(pot_od['pot']), markerfmt = 'green', linefmt = 'green', basefmt = 'green', \n",
    "             label = 'FFT con OpendTect')\n",
    "_ = plt.stem(fT, 20*np.log10(sismT), markerfmt = 'k', linefmt = 'k', basefmt = 'k', label = 'FFT con Numpy')\n",
    "_ = plt.xlim(0,120)\n",
    "_ = plt.ylim(30,130)\n",
    "_ = plt.xticks(np.arange(0,130,10))\n",
    "_ = plt.legend()\n",
    "_ = plt.title('Espectro de amplitud', fontsize = 16, weight = 'semibold')\n",
    "_ = plt.xlabel('Frecuencia [Hz]', fontsize = 11, weight = 'semibold', color = 'k')\n",
    "_ = plt.ylabel('Amplitud [dB]', fontsize = 11, weight = 'semibold', color = 'k')\n",
    "_ = plt.grid(True, alpha = 0.5, color = 'grey', linestyle = ':')"
   ]
  },
  {
   "cell_type": "code",
   "execution_count": null,
   "metadata": {},
   "outputs": [],
   "source": [
    "esp = signal.medfilt(sismT,5)\n",
    "esp_db = signal.medfilt(20*np.log10(sismT),5)"
   ]
  },
  {
   "cell_type": "code",
   "execution_count": null,
   "metadata": {},
   "outputs": [],
   "source": [
    "fig, ax1 = plt.subplots(figsize=(8,5))\n",
    "\n",
    "color = 'tab:grey'\n",
    "ax1.set_xlabel('Frecuencia [Hz]', fontsize = 10, weight = 'semibold')\n",
    "ax1.set_ylabel('Amplitud [dB]', color = color, fontsize = 10, weight = 'semibold')\n",
    "ax1.plot(fT, esp_db, color = color, lw = 2, label = 'Escala dB')\n",
    "ax1.tick_params(axis='y', labelcolor=color)\n",
    "ax1.legend(loc = 'upper right')\n",
    "plt.ylim(25,110)\n",
    "ax2 = ax1.twinx()\n",
    "\n",
    "color = 'tab:blue'\n",
    "ax2.set_ylabel('Amplitud', fontsize = 10, color = color, weight = 'semibold')\n",
    "ax2.plot(fT, esp, lw = 2, label = 'Escala lineal')\n",
    "ax2.tick_params(axis='y', labelcolor=color)\n",
    "ax2.legend(loc = 'center right')\n",
    "plt.title('Espectro de amplitud', fontsize=12, weight = 'semibold')\n",
    "plt.xlim(0,125)\n",
    "\n",
    "plt.show()"
   ]
  },
  {
   "cell_type": "code",
   "execution_count": null,
   "metadata": {},
   "outputs": [],
   "source": [
    "plt.figure(figsize=(8,8)) \n",
    "\n",
    "plt.subplot(2,1,1)\n",
    "_ = plt.plot(fT, sismFt,  'k', markersize = 3, lw = 0.5)\n",
    "_ = plt.xlim(0,75)\n",
    "_ = plt.ylim(-3.5,3.5)\n",
    "_ = plt.xticks(np.arange(0,80,5))\n",
    "_ = plt.xlabel('Frecuencia temporal [Hz]', fontsize = 11, weight = 'semibold', color = 'k')\n",
    "_ = plt.ylabel('Fase [rad]', fontsize = 11, weight = 'semibold', color = 'k')\n",
    "_ = plt.title('Espectro de fase', fontsize = 16, weight = 'semibold')\n",
    "_ = plt.grid(True, alpha = 0.5, color = 'grey', linestyle = ':')\n",
    "#_ = plt.legend(loc = 'upper right')\n",
    "\n",
    "plt.subplot(2,1,2)\n",
    "_ = plt.plot(fX, sismFx,  'r', markersize = 3, lw = 0.5)\n",
    "_ = plt.xlim(0,0.07)\n",
    "_ = plt.xticks(np.arange(0,0.08,0.01))\n",
    "_ = plt.ylim(-3.5,3.5)\n",
    "_ = plt.xlabel('Frecuencia espacial [1/m]', fontsize = 11, weight = 'semibold', color = 'k')\n",
    "_ = plt.ylabel('Fase [rad]', fontsize = 11, weight = 'semibold', color = 'k')\n",
    "_ = plt.grid(True, alpha = 0.5, color = 'grey', linestyle = ':')\n",
    "#_ = plt.legend(loc = 'upper right')"
   ]
  },
  {
   "cell_type": "code",
   "execution_count": null,
   "metadata": {
    "scrolled": false
   },
   "outputs": [],
   "source": [
    "plt.figure(figsize=(14,7.5))\n",
    "\n",
    "plt.subplot(2,1,1)\n",
    "_ = plt.plot(sism_z['depth'][:-1], isismX, 'r')\n",
    "#_ = plt.xlim(0,4350)\n",
    "#_ = plt.xticks(np.arange(0,4350,250))\n",
    "_ = plt.xlabel('Profundidad [m]', fontsize = 11, weight = 'semibold')\n",
    "_ = plt.ylabel('Amplitud', fontsize = 11, weight = 'semibold')\n",
    "_ = plt.title('Reconstrucción de la traza sísmica', fontsize = 16, weight = 'semibold')\n",
    "_ = plt.grid(True, alpha = 0.5, color = 'grey', linestyle = ':')\n",
    "\n",
    "\n",
    "plt.subplot(2,1,2)\n",
    "_ = plt.plot(sism_t['time'][:-1], isismT, 'r')\n",
    "#_ = plt.xlim(0,6)\n",
    "#_ = plt.xticks(np.arange(0,6.025,0.25))\n",
    "_ = plt.xlabel('Tiempo [s]', fontsize = 11, weight = 'semibold')\n",
    "_ = plt.ylabel('Amplitud', fontsize = 11, weight = 'semibold')\n",
    "_ = plt.grid(True, alpha = 0.5, color = 'grey', linestyle = ':')"
   ]
  },
  {
   "cell_type": "markdown",
   "metadata": {},
   "source": [
    "### Referencias:\n",
    "\n",
    "* Prandoni, P., y M. Vetterli, 2008, _Signal Processing for Communications_: EPFL Press.\n",
    "* Robinson, E. A., y S. Treitel, 2008, _Digital Imaging and Deconvolution: The ABCs of Seismic Exploration and Processing_: SEG."
   ]
  },
  {
   "cell_type": "code",
   "execution_count": null,
   "metadata": {},
   "outputs": [],
   "source": []
  }
 ],
 "metadata": {
  "kernelspec": {
   "display_name": "Python 3",
   "language": "python",
   "name": "python3"
  },
  "language_info": {
   "codemirror_mode": {
    "name": "ipython",
    "version": 3
   },
   "file_extension": ".py",
   "mimetype": "text/x-python",
   "name": "python",
   "nbconvert_exporter": "python",
   "pygments_lexer": "ipython3",
   "version": "3.7.1"
  }
 },
 "nbformat": 4,
 "nbformat_minor": 2
}
